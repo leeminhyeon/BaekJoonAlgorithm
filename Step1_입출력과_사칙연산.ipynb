{
  "nbformat": 4,
  "nbformat_minor": 0,
  "metadata": {
    "colab": {
      "name": "Step1. 입출력과 사칙연산.ipynb",
      "version": "0.3.2",
      "provenance": [],
      "include_colab_link": true
    },
    "language_info": {
      "codemirror_mode": {
        "name": "ipython",
        "version": 3
      },
      "file_extension": ".py",
      "mimetype": "text/x-python",
      "name": "python",
      "nbconvert_exporter": "python",
      "pygments_lexer": "ipython3",
      "version": "3.6.5"
    },
    "kernelspec": {
      "display_name": "Python 3",
      "language": "python",
      "name": "python3"
    }
  },
  "cells": [
    {
      "cell_type": "markdown",
      "metadata": {
        "id": "view-in-github",
        "colab_type": "text"
      },
      "source": [
        "<a href=\"https://colab.research.google.com/github/leeminhyeon/BaekJoonAlgorithm/blob/stepPractice/Step1_%EC%9E%85%EC%B6%9C%EB%A0%A5%EA%B3%BC_%EC%82%AC%EC%B9%99%EC%97%B0%EC%82%B0.ipynb\" target=\"_parent\"><img src=\"https://colab.research.google.com/assets/colab-badge.svg\" alt=\"Open In Colab\"/></a>"
      ]
    },
    {
      "cell_type": "markdown",
      "metadata": {
        "id": "RvmF6t6-RrmH",
        "colab_type": "text"
      },
      "source": [
        "# 백준 알고리즘 단계별로 풀어보기\n",
        "1. 입출력과 사칙연산"
      ]
    },
    {
      "cell_type": "markdown",
      "metadata": {
        "id": "0ThGwrV1RrmJ",
        "colab_type": "text"
      },
      "source": [
        "#2557\n",
        "\n",
        "Hello World!를 출력하시오."
      ]
    },
    {
      "cell_type": "code",
      "metadata": {
        "id": "FBAkeqbLRrmK",
        "colab_type": "code",
        "colab": {},
        "outputId": "6489cd05-acbb-4602-c5e2-04b687cfd062"
      },
      "source": [
        "print(\"Hello World!\")"
      ],
      "execution_count": 0,
      "outputs": [
        {
          "output_type": "stream",
          "text": [
            "Hello World!\n"
          ],
          "name": "stdout"
        }
      ]
    },
    {
      "cell_type": "markdown",
      "metadata": {
        "id": "xTkKJq6-RrmQ",
        "colab_type": "text"
      },
      "source": [
        "#10718\n",
        "\n",
        "두 줄에 걸쳐 \"강한친구 대한육군\"을 한 줄에 한 번씩 출력한다."
      ]
    },
    {
      "cell_type": "code",
      "metadata": {
        "id": "wsgZt-vzRrmQ",
        "colab_type": "code",
        "colab": {},
        "outputId": "09d21a61-4522-4f8d-d1f5-3096c31166fe"
      },
      "source": [
        "print(\"강한친구 대한육군\"+\"\\n\"+\"강한친구 대한육군\")"
      ],
      "execution_count": 0,
      "outputs": [
        {
          "output_type": "stream",
          "text": [
            "강한친구 대한육군\n",
            "강한친구 대한육군\n"
          ],
          "name": "stdout"
        }
      ]
    },
    {
      "cell_type": "markdown",
      "metadata": {
        "id": "cJpfcD3cRrmT",
        "colab_type": "text"
      },
      "source": [
        "#10171\n",
        "\n",
        "고양이를 출력한다.\n",
        "\n",
        "\\    /\\\n",
        " )  ( ') \n",
        "(  /  )\n",
        " \\(__)|"
      ]
    },
    {
      "cell_type": "code",
      "metadata": {
        "id": "2l27n2ANRrmU",
        "colab_type": "code",
        "colab": {},
        "outputId": "33ab3978-8a9c-4cdc-91ae-64ed5b844e90"
      },
      "source": [
        "print(\"\\\\    /\\\\\")\n",
        "print(\" )  ( \\')\")\n",
        "print(\"(  /  )\")\n",
        "print(\" \\\\(__)|\")"
      ],
      "execution_count": 0,
      "outputs": [
        {
          "output_type": "stream",
          "text": [
            "\\    /\\\n",
            " )  ( ')\n",
            "(  /  )\n",
            " \\(__)|\n"
          ],
          "name": "stdout"
        }
      ]
    },
    {
      "cell_type": "markdown",
      "metadata": {
        "id": "ErQJZ0-SRrmX",
        "colab_type": "text"
      },
      "source": [
        "#10172\n",
        "\n",
        "강아지를 출력한다.\n",
        "\n",
        "|\\_/|\n",
        "|q p|   /}\n",
        "( 0 )\"\"\"\\\n",
        "|\"^\"`    |\n",
        "||_/=\\\\__|"
      ]
    },
    {
      "cell_type": "code",
      "metadata": {
        "id": "PP_OBbfeRrmY",
        "colab_type": "code",
        "colab": {},
        "outputId": "52953d33-0925-4728-9d43-fa9dd4e3f1aa"
      },
      "source": [
        "print(\"|\\\\_/|\")\n",
        "print(\"|q p|   /}\")\n",
        "print(\"( 0 )\\\"\\\"\\\"\\\\\")\n",
        "print(\"|\\\"^\\\"`    |\")\n",
        "print(\"||_/=\\\\\\\\__|\")"
      ],
      "execution_count": 0,
      "outputs": [
        {
          "output_type": "stream",
          "text": [
            "|\\_/|\n",
            "|q p|   /}\n",
            "( 0 )\"\"\"\\\n",
            "|\"^\"`    |\n",
            "||_/=\\\\__|\n"
          ],
          "name": "stdout"
        }
      ]
    },
    {
      "cell_type": "markdown",
      "metadata": {
        "id": "4K25hbZJRrmb",
        "colab_type": "text"
      },
      "source": [
        "#7287\n",
        "\n",
        "자신이 온라인 저지에서 맞은 문제의 개수와 아이디를 그대로 출력하는 프로그램을 작성하시오.\n",
        "\n",
        "(입력) : 이 문제는 입력이 없다\n",
        "    \n",
        "(출력) : 첫 줄에 자신이 맞은 문제의 수, 둘째 줄에 아이디를 출력한다."
      ]
    },
    {
      "cell_type": "code",
      "metadata": {
        "id": "wHxCdfuSRrmc",
        "colab_type": "code",
        "colab": {},
        "outputId": "3bc570e4-684a-40a4-bc83-11927cd40338"
      },
      "source": [
        "#자기가 맞은 개수와 실제 아이디 입력\n",
        "print(\"12\\nleeminhyun0613\")"
      ],
      "execution_count": 0,
      "outputs": [
        {
          "output_type": "stream",
          "text": [
            "12\n",
            "leeminhyun0613\n"
          ],
          "name": "stdout"
        }
      ]
    },
    {
      "cell_type": "markdown",
      "metadata": {
        "id": "6Hvd-0etRrmg",
        "colab_type": "text"
      },
      "source": [
        "#1000\n",
        "\n",
        "두 정수 A와 B를 입력받은 다음, A+B를 출력하는 프로그램을 작성하시오.\n",
        "\n",
        "Tips. 입력이 1 2 이런식으로 스페이스바로 구분됨\n",
        "\n",
        "input()은 행 입력이므로, split()을 사용해 입력값을 분할해줌"
      ]
    },
    {
      "cell_type": "code",
      "metadata": {
        "id": "TakaEz7WRrmh",
        "colab_type": "code",
        "colab": {},
        "outputId": "69cecc5f-3643-4669-d3c6-a9b64f9ea950"
      },
      "source": [
        "A, B = input().split()\n",
        "A = int(A)\n",
        "B = int(B)\n",
        "print(A+B)"
      ],
      "execution_count": 0,
      "outputs": [
        {
          "output_type": "stream",
          "text": [
            "1 2\n",
            "3\n"
          ],
          "name": "stdout"
        }
      ]
    },
    {
      "cell_type": "code",
      "metadata": {
        "id": "pwXzTd7XRrmk",
        "colab_type": "code",
        "colab": {},
        "outputId": "c9b2ce55-3ed0-40e7-cff4-0b07a3736c33"
      },
      "source": [
        "#다른 방법\n",
        "A, B = map(int, input().split())\n",
        "print(A+B)"
      ],
      "execution_count": 0,
      "outputs": [
        {
          "output_type": "stream",
          "text": [
            "1 2 \n",
            "3\n"
          ],
          "name": "stdout"
        }
      ]
    },
    {
      "cell_type": "markdown",
      "metadata": {
        "id": "dlp9vwD5Rrmo",
        "colab_type": "text"
      },
      "source": [
        "#1001\n",
        "\n",
        "두 정수 A와 B를 입력받은 다음, A-B를 출력하는 프로그램을 작성하시오."
      ]
    },
    {
      "cell_type": "code",
      "metadata": {
        "id": "DSxdKfvERrmo",
        "colab_type": "code",
        "colab": {},
        "outputId": "020f2788-6bf7-46d6-9fcb-4d96cc4ef0d0"
      },
      "source": [
        "A, B = map(int, input().split())\n",
        "print(A-B)"
      ],
      "execution_count": 0,
      "outputs": [
        {
          "output_type": "stream",
          "text": [
            "5 3\n",
            "2\n"
          ],
          "name": "stdout"
        }
      ]
    },
    {
      "cell_type": "markdown",
      "metadata": {
        "id": "0Roo767bRrmr",
        "colab_type": "text"
      },
      "source": [
        "#10998\n",
        "\n",
        "두 정수 A와 B를 입력받은 다음, A×B를 출력하는 프로그램을 작성하시오."
      ]
    },
    {
      "cell_type": "code",
      "metadata": {
        "id": "b5iYR9A3Rrms",
        "colab_type": "code",
        "colab": {},
        "outputId": "c2599527-ca5f-4827-94a0-ad694f3be1b9"
      },
      "source": [
        "A,B = map(int, input().split())\n",
        "print(A*B)"
      ],
      "execution_count": 0,
      "outputs": [
        {
          "output_type": "stream",
          "text": [
            "4 5\n",
            "20\n"
          ],
          "name": "stdout"
        }
      ]
    },
    {
      "cell_type": "markdown",
      "metadata": {
        "id": "2bAEED64Rrmv",
        "colab_type": "text"
      },
      "source": [
        "#1008\n",
        "\n",
        "두 정수 A와 B를 입력받은 다음, A/B를 출력하는 프로그램을 작성하시오."
      ]
    },
    {
      "cell_type": "code",
      "metadata": {
        "id": "XEsym_4gRrmv",
        "colab_type": "code",
        "colab": {},
        "outputId": "596b8aa3-c55f-4466-c452-8a88d98b7174"
      },
      "source": [
        "A,B = map(int, input().split())\n",
        "print(A/B)"
      ],
      "execution_count": 0,
      "outputs": [
        {
          "output_type": "stream",
          "text": [
            "10 5\n",
            "2.0\n"
          ],
          "name": "stdout"
        }
      ]
    },
    {
      "cell_type": "markdown",
      "metadata": {
        "id": "Dv0U-NkGRrmy",
        "colab_type": "text"
      },
      "source": [
        "#10869\n",
        "\n",
        "두 자연수 A와 B가 주어진다. 이때, A+B, A-B, A*B, A/B(몫), A%B(나머지)를 출력하는 프로그램을 작성하시오. \n",
        "\n",
        "첫째 줄에 A+B, 둘째 줄에 A-B, 셋째 줄에 A*B, 넷째 줄에 A/B, 다섯째 줄에 A%B를 출력한다."
      ]
    },
    {
      "cell_type": "code",
      "metadata": {
        "id": "loGs-FdtRrmz",
        "colab_type": "code",
        "colab": {},
        "outputId": "09dafbd7-a404-4af6-f284-39693ffe817a"
      },
      "source": [
        "A,B = map(int, input().split())\n",
        "print(A+B)\n",
        "print(A-B)\n",
        "print(A*B)\n",
        "print(int(A/B))\n",
        "print(A%B)"
      ],
      "execution_count": 0,
      "outputs": [
        {
          "output_type": "stream",
          "text": [
            "7 3\n",
            "10\n",
            "4\n",
            "21\n",
            "2\n",
            "1\n"
          ],
          "name": "stdout"
        }
      ]
    },
    {
      "cell_type": "markdown",
      "metadata": {
        "id": "6aNmydx_Rrm1",
        "colab_type": "text"
      },
      "source": [
        "#10430\n",
        "\n",
        "\n",
        "(A+B)%C는 (A%C + B%C)%C 와 같을까?\n",
        "\n",
        "(A×B)%C는 (A%C × B%C)%C 와 같을까?\n",
        "\n",
        "세 수 A, B, C가 주어졌을 때, 위의 네 가지 값을 구하는 프로그램을 작성하시오.\n",
        "\n",
        "(출력) : 첫째 줄에 (A+B)%C, 둘째 줄에 (A%C + B%C)%C, \n",
        "\n",
        "셋째 줄에 (A×B)%C, 넷째 줄에 (A%C × B%C)%C를 출력한다."
      ]
    },
    {
      "cell_type": "code",
      "metadata": {
        "id": "IgV1Gl22Rrm2",
        "colab_type": "code",
        "colab": {},
        "outputId": "458fde39-ff82-4293-d10c-58e73893e4d4"
      },
      "source": [
        "A,B,C = map(int, input().split())\n",
        "print((A+B)%C)\n",
        "print((A%C + B%C)%C)\n",
        "print((A*B)%C)\n",
        "print((A%C * B%C)%C)"
      ],
      "execution_count": 0,
      "outputs": [
        {
          "output_type": "stream",
          "text": [
            "5 8 4\n",
            "1\n",
            "1\n",
            "0\n",
            "0\n"
          ],
          "name": "stdout"
        }
      ]
    },
    {
      "cell_type": "markdown",
      "metadata": {
        "id": "l0ffZQrMRrm6",
        "colab_type": "text"
      },
      "source": [
        "#2588\n",
        "\n",
        "(세 자리 수) × (세 자리 수)는 다음과 같은 과정을 통하여 이루어진다.\n",
        "\n",
        "(1)과 (2)위치에 들어갈 세 자리 자연수가 주어질 때 (3), (4), (5), (6)위치에 들어갈 값을 구하는 프로그램을 작성하시오."
      ]
    },
    {
      "cell_type": "code",
      "metadata": {
        "id": "DEx4UFqDRrm7",
        "colab_type": "code",
        "colab": {},
        "outputId": "d92ce14f-4466-4045-c502-ece7e5f3966c"
      },
      "source": [
        "A = int(input())\n",
        "B = input()\n",
        "\n",
        "print(A * int(B[2]))\n",
        "print(A * int(B[1]))\n",
        "print(A * int(B[0]))\n",
        "print(A * int(B))"
      ],
      "execution_count": 0,
      "outputs": [
        {
          "output_type": "stream",
          "text": [
            "472\n",
            "385\n",
            "2360\n",
            "3776\n",
            "1416\n",
            "181720\n"
          ],
          "name": "stdout"
        }
      ]
    },
    {
      "cell_type": "code",
      "metadata": {
        "id": "oaPV9JaYRrm_",
        "colab_type": "code",
        "colab": {},
        "outputId": "fca37062-a0a2-4020-9a01-9f5cb739bfdc"
      },
      "source": [
        "#//연산은 나눈 후 나머지를 버리는 연산\n",
        "A = int(input())\n",
        "B = int(input())\n",
        "print(A * (B%10)) # 일의자리 숫자 추출\n",
        "print(A * (B//10%10)) # 십의자리 숫자 추출\n",
        "print(A * (B//100)) #백의자리 숫자 추출\n",
        "print(A*B)"
      ],
      "execution_count": 0,
      "outputs": [
        {
          "output_type": "stream",
          "text": [
            "472\n",
            "385\n",
            "2360\n",
            "3776\n",
            "1416\n",
            "181720\n"
          ],
          "name": "stdout"
        }
      ]
    }
  ]
}