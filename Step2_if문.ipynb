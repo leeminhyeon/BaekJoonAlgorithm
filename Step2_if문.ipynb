{
  "nbformat": 4,
  "nbformat_minor": 0,
  "metadata": {
    "colab": {
      "name": "Step2. if문.ipynb",
      "version": "0.3.2",
      "provenance": [],
      "include_colab_link": true
    },
    "language_info": {
      "codemirror_mode": {
        "name": "ipython",
        "version": 3
      },
      "file_extension": ".py",
      "mimetype": "text/x-python",
      "name": "python",
      "nbconvert_exporter": "python",
      "pygments_lexer": "ipython3",
      "version": "3.6.5"
    },
    "kernelspec": {
      "display_name": "Python 3",
      "language": "python",
      "name": "python3"
    }
  },
  "cells": [
    {
      "cell_type": "markdown",
      "metadata": {
        "id": "view-in-github",
        "colab_type": "text"
      },
      "source": [
        "<a href=\"https://colab.research.google.com/github/leeminhyeon/BaekJoonAlgorithm/blob/stepPractice/Step2_if%EB%AC%B8.ipynb\" target=\"_parent\"><img src=\"https://colab.research.google.com/assets/colab-badge.svg\" alt=\"Open In Colab\"/></a>"
      ]
    },
    {
      "cell_type": "markdown",
      "metadata": {
        "id": "xTwz6XkcA6-V",
        "colab_type": "text"
      },
      "source": [
        "# 백준 알고리즘 단계별로 풀어보기\n",
        "2. if문"
      ]
    },
    {
      "cell_type": "markdown",
      "metadata": {
        "id": "2ceWUI_aA6-W",
        "colab_type": "text"
      },
      "source": [
        "1330\n",
        "\n",
        "두 정수 A와 B가 주어졌을 때, A와 B를 비교하는 프로그램을 작성하시오.\n",
        "\n",
        "(입력) : 첫째 줄에 A와 B가 주어진다. A와 B는 공백 한 칸으로 구분되어져 있다.\n",
        "    \n",
        "(출력) : 첫째 줄에 다음 세 가지 중 하나를 출력한다.\n",
        "\n",
        "A가 B보다 큰 경우에는 '>'를 출력한다.\n",
        "\n",
        "A가 B보다 작은 경우에는 '<'를 출력한다.\n",
        "\n",
        "A와 B가 같은 경우에는 '=='를 출력한다."
      ]
    },
    {
      "cell_type": "code",
      "metadata": {
        "id": "m6HFvsGDA6-W",
        "colab_type": "code",
        "colab": {},
        "outputId": "020c2cb2-7e51-46fe-b1b3-1cfe75d9df92"
      },
      "source": [
        "A, B = map(int, input().split())\n",
        "if A > B : \n",
        "    print('>')\n",
        "elif A < B :\n",
        "    print('<')\n",
        "else:\n",
        "    print('==')"
      ],
      "execution_count": 0,
      "outputs": [
        {
          "output_type": "stream",
          "text": [
            "5 5\n",
            "==\n"
          ],
          "name": "stdout"
        }
      ]
    },
    {
      "cell_type": "markdown",
      "metadata": {
        "id": "R4lSJQK6A6-d",
        "colab_type": "text"
      },
      "source": [
        "9498\n",
        "\n",
        "시험 점수를 입력받아 90 ~ 100점은 A, 80 ~ 89점은 B, 70 ~ 79점은 C, 60 ~ 69점은 D, 나머지 점수는 F를 출력하는 프로그램을 작성하시오.\n",
        "\n",
        "(입력) : 첫째 줄에 시험 점수가 주어진다. 시험 점수는 0보다 크거나 같고, 100보다 작거나 같은 정수이다.\n",
        "\n",
        "(출력) : 시험 성적을 출력한다."
      ]
    },
    {
      "cell_type": "code",
      "metadata": {
        "id": "0j-SYYt8A6-e",
        "colab_type": "code",
        "colab": {},
        "outputId": "878e672a-2fb4-4be0-9d8b-766b49aa0c9b"
      },
      "source": [
        "x = int(input())\n",
        "if x>=90 and x<=100:\n",
        "    print(\"A\")\n",
        "elif x>=80 and x<90:\n",
        "    print(\"B\")\n",
        "elif x>=70 and x<80:\n",
        "    print(\"C\")\n",
        "elif x>=60 and x<70:\n",
        "    print(\"D\")\n",
        "else:\n",
        "    print(\"F\")"
      ],
      "execution_count": 0,
      "outputs": [
        {
          "output_type": "stream",
          "text": [
            "100\n",
            "A\n"
          ],
          "name": "stdout"
        }
      ]
    },
    {
      "cell_type": "markdown",
      "metadata": {
        "id": "4vpnCFaLA6-h",
        "colab_type": "text"
      },
      "source": [
        "2753\n",
        "\n",
        "연도가 주어졌을 때, 윤년이면 1, 아니면 0을 출력하는 프로그램을 작성하시오.\n",
        "\n",
        "윤년은 연도가 4의 배수이면서, 100의 배수가 아닐 때 또는 400의 배수일 때 이다.\n",
        "\n",
        "예를들어, 2012년은 4의 배수라서 윤년이지만, 1900년은 4의 배수이지만, 100의 배수이기 때문에 윤년이 아니다.\n",
        "\n",
        "하지만, 2000년은 400의 배수이기 때문에 윤년이다.\n",
        "\n",
        "(입력) : 첫째 줄에 연도가 주어진다. 연도는 1보다 크거나 같고, 4000보다 작거나 같은 자연수이다.\n",
        "    \n",
        "(출력) : 첫째 줄에 윤년이면 1, 아니면 0을 출력한다.\n"
      ]
    },
    {
      "cell_type": "code",
      "metadata": {
        "id": "EXjgek95A6-h",
        "colab_type": "code",
        "colab": {},
        "outputId": "fbdb0570-228e-4200-d0d9-f1c0b61f7305"
      },
      "source": [
        "year = int(input())\n",
        "if year%4==0:\n",
        "    if year%100!=0:\n",
        "        print(\"1\")\n",
        "    else:\n",
        "        if year%400==0:\n",
        "            print(\"1\")\n",
        "        else:\n",
        "            print(\"0\")\n",
        "else:\n",
        "    print(\"0\")"
      ],
      "execution_count": 0,
      "outputs": [
        {
          "output_type": "stream",
          "text": [
            "2012\n",
            "0\n"
          ],
          "name": "stdout"
        }
      ]
    },
    {
      "cell_type": "markdown",
      "metadata": {
        "id": "XdodxjAYA6-l",
        "colab_type": "text"
      },
      "source": [
        "2884\n",
        "\n",
        "(입력) : 첫째 줄에 두 정수 H와 M이 주어진다. (0 ≤ H ≤ 23, 0 ≤ M ≤ 59) 그리고 이것은 현재 상근이가 맞춰놓은 알람 시간 H시 M분을 의미한다.\n",
        "입력 시간은 24시간 표현을 사용한다. 24시간 표현에서 하루의 시작은 0:0(자정)이고, 끝은 23:59(다음날 자정 1분 전)이다. 시간을 나타낼 때, 불필요한 0은 사용하지 않는다.\n",
        "\n",
        "(출력) : 첫째 줄에 상근이가 창영이의 방법을 사용할 때, 맞춰야 하는 알람 시간을 출력한다. (입력과 같은 형태로 출력하면 된다.)"
      ]
    },
    {
      "cell_type": "code",
      "metadata": {
        "id": "MFltmFPYA6-l",
        "colab_type": "code",
        "colab": {},
        "outputId": "ec46e404-ca9a-401e-f803-f5f89c69f41e"
      },
      "source": [
        "HH, MM = map(int, input().split())\n",
        "realMM = MM-45\n",
        "realHH = HH\n",
        "\n",
        "if realMM<0:\n",
        "    realHH = realHH-1\n",
        "    realMM = 60-45+MM\n",
        "    if realHH<0:\n",
        "        realHH = 23\n",
        "\n",
        "print(realHH, realMM)"
      ],
      "execution_count": 0,
      "outputs": [
        {
          "output_type": "stream",
          "text": [
            "0 10\n",
            "23 25\n"
          ],
          "name": "stdout"
        }
      ]
    },
    {
      "cell_type": "markdown",
      "metadata": {
        "id": "JbJfIq17A6-o",
        "colab_type": "text"
      },
      "source": [
        "10817\n",
        "\n",
        "세 정수 A, B, C가 주어진다. 이때, 두 번째로 큰 정수를 출력하는 프로그램을 작성하시오. \n",
        "\n",
        "(입력) : 첫째 줄에 세 정수 A, B, C가 공백으로 구분되어 주어진다. (1 ≤ A, B, C ≤ 100)\n",
        "\n",
        "(출력) : 두 번째로 큰 정수를 출력한다.\n"
      ]
    },
    {
      "cell_type": "code",
      "metadata": {
        "id": "VRgOJ7Z1A6-o",
        "colab_type": "code",
        "colab": {},
        "outputId": "9f94d32b-c956-40fd-fb87-b085028bf0ac"
      },
      "source": [
        "A, B, C = map(int, input().split())\n",
        "mynumber = [A, B, C]\n",
        "mynumber.sort()\n",
        "print(mynumber[1])"
      ],
      "execution_count": 0,
      "outputs": [
        {
          "output_type": "stream",
          "text": [
            "10 10 5\n",
            "10\n"
          ],
          "name": "stdout"
        }
      ]
    }
  ]
}